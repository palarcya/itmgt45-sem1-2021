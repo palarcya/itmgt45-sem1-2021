{
 "cells": [
  {
   "cell_type": "markdown",
   "id": "b311cd50-76d0-4eff-aacf-c954d7783de3",
   "metadata": {},
   "source": [
    "# Assignment: Playing with Functions\n",
    "\n",
    "## Instructions\n",
    "\n",
    "This is the template file for the assignment of Module 4 called \"Playing with Functions.\" Please carefully follow the instructions below.\n",
    "\n",
    "1. Rename this file by filling out your surname and first name in the file name. For example, if your surname is Ilagan and if your first name is Joben, then rename the file to ILAGAN-JOBEN-playingWithFunctions.ipynb.\n",
    "2. Fill out the markdown cell just above `Problem 1` with your student details as indicated.  \n",
    "3. To submit this file, first, upload your file to your GitHub repository and, second, submit your repository link to the assignment on Canvas.\n"
   ]
  },
  {
   "cell_type": "markdown",
   "id": "ebce0f58",
   "metadata": {},
   "source": [
    "## Student Details\n",
    "\n",
    "ID Number: 203869\n",
    "\n",
    "Surname:  Palarca\n",
    "\n",
    "Year and Course:  2 BS ITE"
   ]
  },
  {
   "cell_type": "markdown",
   "id": "7843e78a-c77f-4662-900c-714330ada001",
   "metadata": {},
   "source": [
    "## Problem 1\n",
    "## Factorial (1 point)\n",
    "\n",
    "The **factorial** of a number is the product of that number and all the numbers below it. For example, 5 factorial (denoted 5! in math) is 5 * 4 * 3 * 2 * 1, which is 120.  \n",
    "\n",
    "**Write a function called `problem_1` that takes one positional argument `number`. The function should return  the factorial of `number` as an integer.**\n",
    "\n",
    "Example input/output:  \n",
    "`problem_1(5)` => `120`  \n",
    "`problem_1(10)` => `3628800`  "
   ]
  },
  {
   "cell_type": "code",
   "execution_count": 1,
   "id": "d5a2a6b3",
   "metadata": {},
   "outputs": [],
   "source": [
    "def problem_1(number):\n",
    "    factorial = 1\n",
    "    for i in range(1,number + 1):    \n",
    "       factorial = factorial*i  \n",
    "    return factorial "
   ]
  },
  {
   "cell_type": "code",
   "execution_count": 2,
   "id": "41ab2ea4",
   "metadata": {},
   "outputs": [
    {
     "name": "stdout",
     "output_type": "stream",
     "text": [
      "Enter a number: 10\n",
      "The factorial of 10 is 3628800\n"
     ]
    }
   ],
   "source": [
    "# get the input from user\n",
    "number = int(input(\"Enter a number: \"))    \n",
    "\n",
    "#conditional statements \n",
    "if number < 0:    \n",
    "   print(\" The factorial does not exist for negative numbers\")    \n",
    "elif number == 0 or number ==1:    \n",
    "   print(\"The factorial is 1\")    \n",
    "else:\n",
    "   factorial = problem_1(number) \n",
    "   print(\"The factorial of\",number,\"is\",factorial)  "
   ]
  },
  {
   "cell_type": "markdown",
   "id": "b95d08a5-e4f9-4bb4-8e18-e09e629df96b",
   "metadata": {},
   "source": [
    "## Problem 2\n",
    "## Guessing Game (2 points) \n",
    "\n",
    "Recall that we use `input()` to ask for user input.  \n",
    "\n",
    "**Write a function called `problem_2` that takes one positional argument `passphrase`. The function should ask the user to enter the passphrase with `input()`. If the user enters the correct passphrase, the function should return the integer `1`. If the user enters the wrong passphrase, the function should keep asking them for the passphrase. If the user gets the passphrase wrong 3 times, the function should return the integer `0`.**  \n",
    "\n",
    "Example input/output:  \n",
    "\n",
    "Function input:  \n",
    "`problem_2(\"chums\")`  \n",
    "Simulated user input:  \n",
    "`joben`  \n",
    "`chums`  \n",
    "Output:  \n",
    "`1`  \n",
    "\n",
    "Function input:  \n",
    "`problem_2(\"annika\")`  \n",
    "Simulated user input:  \n",
    "`joe`  \n",
    "`earl`  \n",
    "`niks`  \n",
    "Output:  \n",
    "`0`"
   ]
  },
  {
   "cell_type": "code",
   "execution_count": 23,
   "id": "cb655141",
   "metadata": {},
   "outputs": [],
   "source": [
    "def problem_2(passphrase):\n",
    "    passphrase = pokemon"
   ]
  },
  {
   "cell_type": "code",
   "execution_count": 60,
   "id": "9ad65e2d",
   "metadata": {
    "scrolled": true
   },
   "outputs": [
    {
     "name": "stdout",
     "output_type": "stream",
     "text": [
      "Enter passphrase: pok\n",
      "You got it wrong, please try again, \n",
      "\n",
      "Enter passphrase: pokemon\n",
      "1\n"
     ]
    }
   ],
   "source": [
    "attempt = 1 \n",
    "max_attempts = 3\n",
    "guess = input(\"Enter passphrase: \")\n",
    "\n",
    "while guess != 'pokemon':\n",
    "    if attempt == max_attempts:\n",
    "        print(0)\n",
    "        break\n",
    "    attempt += 1\n",
    "    print('You got it wrong, please try again, \\n')\n",
    "    guess = input(\"Enter passphrase: \")\n",
    "    \n",
    "else:\n",
    "    print(1)"
   ]
  },
  {
   "cell_type": "markdown",
   "id": "1b434f41-8e16-4a4d-a8d0-96be3ed2a309",
   "metadata": {},
   "source": [
    "## Problem 3\n",
    "## Temperature Converter (3 points)\n",
    "\n",
    "A common beginner's exercise is to write a function that can convert a temperature value from one format, such as Fahrenheit, to another, such as Celsius.  \n",
    "\n",
    "In this problem, extend this idea to convert temperatures freely to and from any of the following formats: Celsius, Fahrenheit, and Kelvin.  \n",
    "\n",
    "**Write a function called `problem_3` that takes three positional arguments: (float) `temp`, (string) `original_format`, (string) `new_format`. The function should convert `temp`, which is represented in `original_format`, to its equivalent value in the `new_format.`**  \n",
    "\n",
    "Example input/output:  \n",
    "`problem_3(0.0, \"Celsius\", \"Fahrenheit\")` => `32.0`  \n",
    "`problem_3(500.0, \"Kelvin\", \"Fahrenheit\")` => `440.33`  \n",
    "`problem_3(273.0, \"Kelvin\", \"Celsius\")` => `0.0`  \n",
    "\n",
    "For your convenience:  \n",
    "1. The accuracy of your float outputs will only be evaluated to within 4 decimal places. "
   ]
  },
  {
   "cell_type": "code",
   "execution_count": 105,
   "id": "652183db-4f42-40cf-b8cf-f0120914b86b",
   "metadata": {},
   "outputs": [
    {
     "name": "stdout",
     "output_type": "stream",
     "text": [
      "What temperature do you want to convert? eg., 30, 50 etc.: 60\n",
      "What degree is it? Choose among Celsius, Farenheit, and Kelvin: Kelvin\n",
      "What degree do you want to convert it to? (Celsius, Farenheit, Kelvin): Celsius\n",
      "-213.15\n"
     ]
    }
   ],
   "source": [
    "def problem_3(temp,original_format, new_format):\n",
    "    return problem_3\n",
    "   \n",
    "#ask for input\n",
    "temp = float(input(\"What temperature do you want to convert? eg., 30, 50 etc.: \"))\n",
    "original_format = input(\"What degree is it? Choose among Celsius, Farenheit, and Kelvin: \" )\n",
    "new_format = input(\"What degree do you want to convert it to? (Celsius, Farenheit, Kelvin): \")\n",
    "\n",
    "#conditional statments\n",
    "if original_format ==\"Celsius\" and new_format == \"Farenheit\":\n",
    "    problem_3 = (temp*9/5)+32\n",
    "    limited_problem_3 = round(problem_3, 4)\n",
    "    print(limited_problem_3)\n",
    "if original_format==\"Farenheit\" and new_format ==\"Celsius\":\n",
    "    problem_3 = (temp-32)*5/9\n",
    "    limited_problem_3 = round(problem_3, 4)\n",
    "    print(limited_problem_3) \n",
    "if original_format==\"Celsius\" and new_format ==\"Kelvin\":\n",
    "    problem_3 = (temp + 273.15)\n",
    "    limited_problem_3 = round(problem_3, 4)\n",
    "    print(limited_problem_3)\n",
    "if original_format==\"Kelvin\" and new_format ==\"Celsius\":\n",
    "    problem_3 = (temp - 273.15)\n",
    "    limited_problem_3 = round(problem_3, 4)\n",
    "    print(limited_problem_3)\n",
    "if original_format==\"Farenheit\" and new_format ==\"Kelvin\":\n",
    "    problem_3 = ((temp-32)*5/9)+273.15\n",
    "    limited_problem_3 = round(problem_3, 4)\n",
    "    print(limited_problem_3)\n",
    "if original_format==\"Kelvin\" and new_format ==\"Farenheit\":\n",
    "    problem_3 = ((temp-273.15)*9/5)+32\n",
    "    limited_problem_3 = round(problem_3, 4)\n",
    "    print(limited_problem_3)"
   ]
  },
  {
   "cell_type": "markdown",
   "id": "f12ed1ad-7738-4f4a-aa35-8f7ee87ea395",
   "metadata": {},
   "source": [
    "## Problem 4\n",
    "## Exact Change (4 points)\n",
    "\n",
    "Part of a cashier's job is to give exact change to customers. It can be difficult to mentally tally how many coins of each type (i.e., 1 peso, 25 centavos, 10 centavos, etc.) to give to a customer.  \n",
    "\n",
    "**Write a function called `problem_4` that takes 1 positional argument `amount` in centavos. The function should return a string that describes the appropriate amounts of each type of coin to give to the customer. The string should be formatted as follows:**  \n",
    "\n",
    "`\"1P:{num}/25C:{num}/10C:{num}/5C:{num}/1C:{num}\"`  \n",
    "\n",
    "**Use the fewest number of total coins possible.**  \n",
    "\n",
    "Example input/output:  \n",
    "`problem_4(105)` => `\"1P:1/25C:0/10C:0/5C:1/1C:0\"`  \n",
    "`problem_4(69)` => `\"1P:0/25C:2/10C:1/5C:1/1C:4\"`  "
   ]
  },
  {
   "cell_type": "code",
   "execution_count": 57,
   "id": "760d6271",
   "metadata": {},
   "outputs": [
    {
     "name": "stdout",
     "output_type": "stream",
     "text": [
      "Enter change in centavos: 43\n",
      "Please prepare the following amount of change\n",
      "1P:  0\n",
      "25C:  1\n",
      "10C:  1\n",
      "5C:  1\n",
      "1C:  3\n"
     ]
    }
   ],
   "source": [
    "def problem_4(amount):\n",
    "    return amount\n",
    "\n",
    "amount = int(input(\"Enter change in centavos: \"))\n",
    "\n",
    "#conditional statements \n",
    "if amount <= 0:\n",
    "    print(\"Please enter a positive value\")\n",
    "else: \n",
    "    piso = amount//100\n",
    "    centavo_twentyfive = (amount%100)//25 \n",
    "    centavo_ten = (amount % 100 % 25)//10 \n",
    "    centavo_five = (amount % 100 % 25 % 10)// 5\n",
    "    centavo_one = (amount % 100 % 25 % 10% 5)// 1\n",
    "    \n",
    "    print(\"Please prepare the following amount of change\")\n",
    "    print(\"1P: \", piso)\n",
    "    print(\"25C: \", centavo_twentyfive)\n",
    "    print(\"10C: \", centavo_ten)\n",
    "    print(\"5C: \", centavo_five)\n",
    "    print(\"1C: \", centavo_one)\n",
    "  "
   ]
  },
  {
   "cell_type": "markdown",
   "id": "a45e4549-fb1a-4a4e-aceb-1eb46ceaa2c2",
   "metadata": {},
   "source": [
    "## Problem 5\n",
    "## Invert Capitalization (3 points)  \n",
    "\n",
    "**Write a function called `problem_5` that takes 1 positional argument (string) `message`. The function should return a string whose uppercase letters are now lowercase and whose lowercase letters are now uppercase. Spaces should be left alone.**  \n",
    "\n",
    "Example input/output:  \n",
    "`problem_5(\"Test Me\")` => `\"tEST mE\"`  \n",
    "`problem_5(\"asSiGnmENt\")` => `\"ASsIgNMenT\"`  \n",
    "\n",
    "For your convenience:  \n",
    "1. The message will only ever consist of spaces, lowercase letters, and uppercase letters.  \n",
    "\n",
    "Hint: Research on `ord()` and `chr()`.  "
   ]
  },
  {
   "cell_type": "code",
   "execution_count": 106,
   "id": "df8d9597-cca1-44ef-b1c8-a0050d512d45",
   "metadata": {},
   "outputs": [
    {
     "name": "stdout",
     "output_type": "stream",
     "text": [
      "Type message here:ASsIgNMenT\n",
      "Message with inverted capitalization:  asSiGnmENt\n"
     ]
    }
   ],
   "source": [
    "def problem_5(message):\n",
    "    return message\n",
    "\n",
    "message = input(\"Type message here:\" )\n",
    "\n",
    "problem_5 = message.swapcase()\n",
    "\n",
    "print(\"Message with inverted capitalization: \", problem_5)"
   ]
  },
  {
   "cell_type": "code",
   "execution_count": null,
   "id": "5ee8047d",
   "metadata": {},
   "outputs": [],
   "source": []
  }
 ],
 "metadata": {
  "kernelspec": {
   "display_name": "Python 3",
   "language": "python",
   "name": "python3"
  },
  "language_info": {
   "codemirror_mode": {
    "name": "ipython",
    "version": 3
   },
   "file_extension": ".py",
   "mimetype": "text/x-python",
   "name": "python",
   "nbconvert_exporter": "python",
   "pygments_lexer": "ipython3",
   "version": "3.8.8"
  }
 },
 "nbformat": 4,
 "nbformat_minor": 5
}
